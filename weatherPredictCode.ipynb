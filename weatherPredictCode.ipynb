{
 "cells": [
  {
   "cell_type": "markdown",
   "metadata": {},
   "source": [
    "# Imports"
   ]
  },
  {
   "cell_type": "code",
   "execution_count": null,
   "metadata": {},
   "outputs": [],
   "source": [
    "from pandas import read_csv\n",
    "from matplotlib import pyplot\n",
    "from sklearn.model_selection import train_test_split\n",
    "from sklearn.model_selection import cross_val_score\n",
    "from sklearn.model_selection import StratifiedKFold\n",
    "from sklearn.linear_model import LogisticRegression\n",
    "from sklearn.tree import DecisionTreeClassifier\n",
    "from sklearn.neighbors import KNeighborsClassifier\n",
    "from sklearn.discriminant_analysis import LinearDiscriminantAnalysis\n",
    "from sklearn.naive_bayes import GaussianNB\n",
    "from sklearn.svm import SVC\n",
    "from pandas.plotting import scatter_matrix\n",
    "from datetime import datetime\n",
    "from pandas import concat\n",
    "from sklearn.metrics import classification_report\n",
    "from sklearn.metrics import confusion_matrix\n",
    "from sklearn.metrics import accuracy_score\n",
    "from datetime import date\n",
    "from numpy import array"
   ]
  },
  {
   "cell_type": "markdown",
   "metadata": {},
   "source": [
    "# Getting data"
   ]
  },
  {
   "cell_type": "code",
   "execution_count": null,
   "metadata": {},
   "outputs": [],
   "source": [
    "data = \"seattle-weather.csv\"\n",
    "dataset = read_csv(data)\n",
    "dataset.head()"
   ]
  },
  {
   "cell_type": "markdown",
   "metadata": {},
   "source": [
    "# Exporing what todo with the data"
   ]
  },
  {
   "cell_type": "code",
   "execution_count": null,
   "metadata": {},
   "outputs": [],
   "source": [
    "print(dataset.describe())"
   ]
  },
  {
   "cell_type": "markdown",
   "metadata": {},
   "source": [
    "## Arranging our data for training"
   ]
  },
  {
   "cell_type": "code",
   "execution_count": null,
   "metadata": {},
   "outputs": [],
   "source": [
    "print(\"DF Dimensions:\", dataset.shape)\n",
    "dataset.dtypes"
   ]
  },
  {
   "cell_type": "code",
   "execution_count": null,
   "metadata": {},
   "outputs": [],
   "source": [
    "dataset.hist()\n",
    "pyplot.show()"
   ]
  },
  {
   "cell_type": "code",
   "execution_count": null,
   "metadata": {},
   "outputs": [],
   "source": [
    "\n",
    "scatter_matrix(dataset)\n",
    "pyplot.show()"
   ]
  },
  {
   "cell_type": "markdown",
   "metadata": {},
   "source": [
    "### dealing with date"
   ]
  },
  {
   "cell_type": "code",
   "execution_count": null,
   "metadata": {},
   "outputs": [],
   "source": [
    "# Splitting date from the - symbol\n",
    "dateDF = dataset['date']\n",
    "dateDF = dateDF.str.split('-',expand=True)\n",
    "dateDF = dateDF.rename(columns={0:'Year',1:'Month',2:'Day'})\n",
    "dateDF.head()\n"
   ]
  },
  {
   "cell_type": "code",
   "execution_count": null,
   "metadata": {},
   "outputs": [],
   "source": [
    "#concat new dates with main features\n",
    "\n",
    "print(dataset.iloc[:,1:])\n",
    "weatherDF = concat([dateDF,dataset.iloc[:,1:]],join='outer',axis=1)\n",
    "weatherDF"
   ]
  },
  {
   "cell_type": "markdown",
   "metadata": {},
   "source": [
    "### Setting up Data from X and Y and training"
   ]
  },
  {
   "cell_type": "code",
   "execution_count": null,
   "metadata": {},
   "outputs": [],
   "source": [
    "arrayWeather = weatherDF.values\n",
    "X = arrayWeather[:,1:-1]\n",
    "y = arrayWeather[:,-1]\n",
    "\n",
    "X_train, X_validation, Y_train, Y_validation = train_test_split(X, y, test_size=0.20, random_state=1, shuffle=True)"
   ]
  },
  {
   "cell_type": "markdown",
   "metadata": {},
   "source": [
    "# Create models To be used"
   ]
  },
  {
   "cell_type": "markdown",
   "metadata": {},
   "source": [
    "### Choose what model to use"
   ]
  },
  {
   "cell_type": "code",
   "execution_count": null,
   "metadata": {},
   "outputs": [],
   "source": [
    "#setting models in a array\n",
    "models = []\n",
    "models.append(('LR', LogisticRegression(solver='liblinear', multi_class='ovr')))\n",
    "models.append(('LDA', LinearDiscriminantAnalysis()))\n",
    "models.append(('KNN', KNeighborsClassifier()))\n",
    "models.append(('CART', DecisionTreeClassifier()))\n",
    "models.append(('NB', GaussianNB()))\n",
    "models.append(('SVM', SVC(gamma='auto')))"
   ]
  },
  {
   "cell_type": "code",
   "execution_count": null,
   "metadata": {},
   "outputs": [],
   "source": [
    "results = []\n",
    "names = []\n",
    "for name, model in models:\n",
    "\tkfold = StratifiedKFold(n_splits=10, random_state=1, shuffle=True)\n",
    "\tcv_results = cross_val_score(model, X_train, Y_train, cv=kfold, scoring='accuracy')\n",
    "\tresults.append(cv_results)\n",
    "\tnames.append(name)\n",
    "\tprint('%s: %f (%f)' % (name, cv_results.mean(), cv_results.std()))"
   ]
  },
  {
   "cell_type": "code",
   "execution_count": null,
   "metadata": {},
   "outputs": [],
   "source": [
    "pyplot.boxplot(results, labels=names)\n",
    "pyplot.title('Algorithm Comparison')\n",
    "pyplot.show()"
   ]
  },
  {
   "cell_type": "markdown",
   "metadata": {},
   "source": [
    "Logistic regression and GaussianNB are the best models "
   ]
  },
  {
   "cell_type": "code",
   "execution_count": null,
   "metadata": {},
   "outputs": [],
   "source": [
    "\n",
    "\n",
    "\n",
    "model = GaussianNB()\n",
    "model.fit(X_train, Y_train)\n",
    "print(type(X_validation[0]))\n",
    "predictions = model.predict(X_validation)\n",
    "print(type(X_validation[0]))\n",
    "\n",
    "# Evaluate predictions\n",
    "print(accuracy_score(Y_validation, predictions))\n",
    "print(confusion_matrix(Y_validation, predictions))\n",
    "print(classification_report(Y_validation, predictions))"
   ]
  },
  {
   "cell_type": "code",
   "execution_count": null,
   "metadata": {},
   "outputs": [],
   "source": [
    "from numpy import array\n",
    "inputData = array([['9','4',10.9,10.6,2.8,4.5]],dtype=float)#.reshape(-1,1)\n",
    "modelTest = GaussianNB()\n",
    "modelTest.fit(X_train, Y_train)\n",
    "predictionsTest = modelTest.predict(inputData)\n",
    "print('The predicted value from the model is:',predictionsTest[0])\n",
    "# Evaluate predictions\n",
    "print('With an accuracy of %s percent.'%(accuracy_score(Y_validation, predictions)*100))\n"
   ]
  },
  {
   "cell_type": "markdown",
   "metadata": {},
   "source": [
    "# Creating a Interactive module for testing the model"
   ]
  },
  {
   "cell_type": "code",
   "execution_count": null,
   "metadata": {},
   "outputs": [],
   "source": [
    "\n",
    "def getInputs(useSysDate = True):\n",
    "    if useSysDate == True:  \n",
    "        curDay = date.today()\n",
    "        month = curDay.month\n",
    "        day = curDay.day\n",
    "    if useSysDate == False or (month == '' or day == ''):\n",
    "        month = input('Enter the current month in numeric form(e.g. 09 = september):')\n",
    "        day = input('Enter the current day of the month:')\n",
    "        while len(month) != 2:\n",
    "            #needs to be in format of '09' or '12'\n",
    "            month = input('Enter the current month in numeric form(e.g. 09 = september):')\n",
    "\n",
    "        while len(day) != 2:\n",
    "            #needs to be in format of '09' or '30'\n",
    "            day = input('Enter the current day of the month:')\n",
    "\n",
    "    #------- precipitation --------\n",
    "    precipInput = input('Enter the precipitation')\n",
    "    while float(precipInput) < 0.00:\n",
    "        precipInput = input('Enter the precipitation')\n",
    "\n",
    "    #-------- minTemp --------\n",
    "    minTempInput = input('Enter the minimum temp')\n",
    "    while minTempInput == '':\n",
    "        minTempInput = input('Enter the minimum temp')\n",
    "\n",
    "    #-------- minTemp --------\n",
    "    maxTempInput = input('Enter the maximum temp')\n",
    "    while maxTempInput == '' or maxTempInput < minTempInput:\n",
    "        maxTempInput = input('Enter the maximum temp')\n",
    "\n",
    "    #-------- wind ---------\n",
    "    windInput = input('Enter the wind')\n",
    "    while windInput == '':\n",
    "        windInput = input('Enter the wind')\n",
    "    \n",
    "    return month,day,precipInput,minTempInput,maxTempInput,windInput\n",
    "\n",
    "def predictCurWeather(inputList = [],askInput = True):\n",
    "    if askInput == True:\n",
    "        inputParams = getInputs()\n",
    "    else:\n",
    "        if len(inputList) != 7:\n",
    "            inputParams = getInputs()\n",
    "        else:\n",
    "            inputParams = inputList\n",
    "\n",
    "    data = \"seattle-weather.csv\"\n",
    "    dataset = read_csv(data)\n",
    "    dateDF = dataset['date']\n",
    "    dateDF = dateDF.str.split('-',expand=True)\n",
    "    dateDF = dateDF.rename(columns={0:'Year',1:'Month',2:'Day'})\n",
    "    weatherDF = concat([dateDF,dataset.iloc[:,1:]],join='outer',axis=1)\n",
    "    arrayWeather = weatherDF.values\n",
    "    X = arrayWeather[:,1:-1]\n",
    "    y = arrayWeather[:,-1]\n",
    "\n",
    "    X_train, X_validation, Y_train, Y_validation = train_test_split(X, y, test_size=0.20, random_state=1, shuffle=True)\n",
    "\n",
    "\n",
    "    model = GaussianNB()\n",
    "    model.fit(X_train, Y_train)\n",
    "    predictionsTest = model.predict(array([inputParams],dtype = float))\n",
    "    print('The predicted value from the model is:',predictionsTest[0])\n",
    "    # Evaluate predictions\n",
    "    print('With an accuracy of %s percent.'%(accuracy_score(Y_validation, predictions)*100))\n",
    "    \n",
    "\n",
    "\n",
    "    \n",
    "\n",
    "\n",
    "predictCurWeather()\n"
   ]
  }
 ],
 "metadata": {
  "kernelspec": {
   "display_name": "Python 3.10.2 64-bit",
   "language": "python",
   "name": "python3"
  },
  "language_info": {
   "codemirror_mode": {
    "name": "ipython",
    "version": 3
   },
   "file_extension": ".py",
   "mimetype": "text/x-python",
   "name": "python",
   "nbconvert_exporter": "python",
   "pygments_lexer": "ipython3",
   "version": "3.10.2"
  },
  "orig_nbformat": 4,
  "vscode": {
   "interpreter": {
    "hash": "3a87835ef3302642c595255454695d8396bb68a285bd230835682c4a4880a3d8"
   }
  }
 },
 "nbformat": 4,
 "nbformat_minor": 2
}
